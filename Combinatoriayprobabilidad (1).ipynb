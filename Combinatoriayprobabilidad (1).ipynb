{
 "cells": [
  {
   "cell_type": "markdown",
   "metadata": {},
   "source": [
    "# Combinatoria y Probabilidad"
   ]
  },
  {
   "cell_type": "markdown",
   "metadata": {},
   "source": [
    "<img alt=\"Combinatoria\" title=\"Combinatoria y Probabilidad\" src=\"http://4.bp.blogspot.com/-UliKwW2aAAk/UAJIf4zTtsI/AAAAAAAAAJg/MpUwMWi0vn8/s1600/combinatoria+%25281%2529.jpg\" >"
   ]
  },
  {
   "cell_type": "markdown",
   "metadata": {},
   "source": [
    "> \"En el fondo, la teoría de  probabilidades es sólo sentido común expresado con números\"\n",
    "\n",
    "***[Pierre Simon de Laplace](https://es.wikipedia.org/wiki/Pierre-Simon_Laplace)***\n",
    "\n",
    "\n",
    "> Combinatoria enumerativa, o el arte de contar sin enumerar.\n",
    "\n",
    "***[Enlace a wikipedia](https://es.wikipedia.org/wiki/Combinatoria)***\n",
    "\n",
    "\n",
    "## Combinatoria\n",
    "\n",
    "La combinatoria es una rama de la matemática perteneciente al área de matemáticas discretas que estudia las enumeraciónes, ordenaciones o agrupaciones de un determinado número de elementos.\n",
    "\n",
    "En un conjunto con $n$ elementos (número de elementos de la población) tenemos que formar agrupaciones con $p$ elementos (número de elementos de la muestra) siendo $n\\ge p$.\n",
    "\n",
    "Con esta descripción del problema, cabe preguntarse, si el orden de colocación de los elementos en cada grupo, determinan si son grupos iguales o distintos y si los elelemtos se pueden repetir en cada grupo \n",
    "\n",
    "Por tanto hay dos conceptos claves:\n",
    "1. **Orden**: Determina si es importante o no, que los elementos de la muestra aparezcan ordenados.\n",
    "    + **Problema 1**: Grupo de tres dígitos para formar productos de tres factores. En este problema **no** importa el orden de colocación (el orden de los factores no altera el producto). Estas agrupaciones se denominan **combinaciones** y se denotan por  $\\;$ $\\text{C}_{n,p}=\\binom{n}{p}$ (Esta última expresión de llama número combinatorio)\n",
    "    + **Problema 2**: Grupo de tres atletas en el orden de llegada a la meta para obtener, oro,  plata o bronce. En este problema **si** importa el orden de colocación. Estas agrupaciones se denominan **variaciones** y se denotan por $\\;$ $ \\text{V}_{n,p}$ y en el caso particular donde $n=p$ se escribe $\\;$ $\\text{P}_{n}=n!\\;$ y se denomina **factorial**\n",
    "2. **Repetición**: Si los elementos de la muestra se pueden repetir o no.\n",
    "    + **Problema 3**: Una apuesta en un boleto de la quiniela de fútbol. Aquí **se repiten** los elementos 1, X, 2. Las anotaciones son $\\;\\text{CR}_{n,p}=\\binom{n+p-1}{p}$, $\\;\\text{VR}_{n,p}\\;$ y $\\;\\text{PR}_{n}^{\\alpha, \\beta}\\;$ donde $\\; n=\\alpha+\\beta$\n",
    "    + **Problema 4**: Nombrar el presidente, el secretario y el tesorero de una comunidad de vecinos. Aquí **no se repiten** los elementos (las personas no se pueden clonar)\n",
    "\n",
    "$\\color{blue}{\\large\\textbf{Cálculo del número de agrupaciones en cada problema}}$\n",
    "\n",
    "$$V_{n,p}=\\overbrace {n(n-1)(n-2) \\cdots\\cdots (n-p+2)(n-p+1)}^{p \\, \\text{factores}}$$\n",
    "\n",
    "$$P_{n}=n!=n(n-1)(n-2) \\cdots \\cdot 3\\cdot2\\cdot1$$\n",
    "\n",
    "$$C_{n,p}=\\binom{n}{p}=\\frac{V_{n,p}}{P_{p}}=\\frac{n!}{p!(n-p)!}$$\n",
    "\n",
    "$$VR_{n,p}= n^p$$\n",
    "\n",
    "$$PR_{n}^{\\alpha,\\beta}=\\frac{n!}{\\alpha ! \\cdot \\beta !}$$\n",
    "\n",
    "$$CR_{n,p}=\\binom{n+p-1}{p}=\\frac{(n+p-1)!}{p!(n-1)!}$$\n",
    "\n",
    "\n",
    "## Probabilidad\n",
    "\n",
    "La probabilidad es una **medida** de la certidumbre asociada a un suceso de un experimento aleatorio (no sabemos a priori lo que va a ocurrir).\n",
    "\n",
    "La teoría de la probabilidad se usa extensamente en áreas como la estadística, la física, la administración, contaduría, economía y la filosofía para sacar conclusiones sobre la probabilidad discreta de sucesos.\n",
    "\n",
    "#### Espacio muestral y sucesos elementales\n",
    "\n",
    "Consideremos un experimento aleatorio $\\Omega$ y sean $E_i \\quad i\\in \\mathbb{N}$ los sucesos elementales (sucesos equiprobables).\n",
    "\n",
    "Lamamos **espacio muestral** al conjunto formado por los sucesos elementales.\n",
    "\n",
    "$$E=\\{E_i\\}$$\n",
    "\n",
    "Se define un suceso compuesto o simplemente **suceso** a la unión finita de sucesos elementales.\n",
    "$$A=\\bigcup_{i=1}^{k}E_i$$\n",
    "\n",
    "**Ejemplo**\n",
    "En una caja hay cinco bolas iguales numeradas del 1 al 5 y realizamos el experimento de extraer una bola. Obtener:\n",
    "1. El espacio muestral\n",
    "2. El suceso sacar una bola con un número par\n",
    "3. El suceso sacar una bola con un número primo\n",
    "\n",
    "**Solución**\n",
    "1. $$E=\\{1,2,3,4,5\\}$$\n",
    "2. $$A_1=\\{2,4\\}$$\n",
    "3. $$A_2=\\{1,2,3,5\\}$$\n",
    "\n",
    "### Operaciones con sucesos\n",
    "\n",
    "1. Unión $\\qquad A_i\\cup A_j = \\{E_k \\quad \\text{tal que} \\quad E_k\\in A_i \\quad \\text{ó} \\quad E_k\\in A_j\\}$\n",
    "2. Intersección $\\qquad A_i\\cap A_j = \\{E_k \\quad \\text{tal que} \\quad E_k\\in A_i \\quad \\text{y} \\quad E_k\\in A_j\\}$\n",
    "3. Contrario  $\\qquad \\overline A_i=\\{E_k \\quad \\text{tal que} \\quad E_k\\in E \\quad \\text{y} \\quad E_k\\notin A_i\\}$\n",
    "4. Diferencia $\\qquad A_i - A_j = A_i \\cap \\overline A_j=\\{E_k \\quad \\text{tal que} \\quad E_k\\in A_i \\quad \\text{y} \\quad E_k\\notin A_j\\}$\n",
    "\n",
    "**En el ejemplo anterior**\n",
    "\n",
    "Calcular:\n",
    "1. $A_1 \\cup A_2$ \n",
    "$$A_1 \\cup A_2 = \\{1,2,3,4,5\\} = E$$\n",
    "2. $A_1 \\cap A_2$\n",
    "$$A_1 \\cap A_2 = \\{2\\}$$\n",
    "3. $\\overline{A_2}$\n",
    "$$\\overline{A_2} = \\{4\\}$$\n",
    "\n",
    "### Leyes de Morgan\n",
    "\n",
    "1. $\\qquad \\overline{(A_i\\cup A_j)} =\\overline A_i \\cap \\overline A_j $\n",
    "2. $\\qquad \\overline{(A_i\\cap A_j)} =\\overline A_i \\cup \\overline A_j $\n",
    "3. $\\qquad \\overline{\\overline A_i}= A_i$\n",
    "\n",
    "$\\color{blue}{\\large{\\textbf{Axiomas de la teoría de la probabilidad}}}$\n",
    "\n",
    "1. $\\qquad 0\\leq p(A_i) \\leq 1 \\quad \\forall i$\n",
    "2. $\\qquad p\\left(\\overline A_i\\right)= 1- p(A_i)$\n",
    "3. $\\qquad \\displaystyle p\\left(\\bigcup_{i=1}^{n}{A_i}\\right)=\\displaystyle \\sum_{i=1}^{n}{p(A_i)}= p(E)= 1$\n",
    "\n",
    "$\\color{blue}{\\large{\\textbf{Regla de Laplace}}}$\n",
    "\n",
    "Sea $\\Omega$ un experimento aleatorio cualquiera y  $\\displaystyle E=\\{A_{1},..,A_{n}\\}$ el conjunto finito de sus resultados posibles.\n",
    "\n",
    "Si suponemos que cada resultado es equiprobable (que ninguno tenga más oportunidades que otro) entonces  $\\displaystyle p(A_{i})=p_i$.\n",
    "\n",
    "Si queremos que p sea una función de probabilidad tal que $\\displaystyle p(\\Omega)=1=\\sum _{i=1}^{n}p(A_{i})$   $\\Rightarrow$ $\\displaystyle p_i=\\frac{1}{n}$\n",
    "\n",
    "Sea A un subconjunto tal que $\\displaystyle A=\\{A_{1},..,A_{r}\\}$  $\\Rightarrow$ $\\displaystyle p(A)=\\sum _{i=1}^{r}p(A_{i})\\ =r\\cdot p_i=\\frac{r}{n}= \\frac{\\color{red}{\\text{número de casos favorables}}}{\\color{red}{\\text{número de casos posibles}}}$"
   ]
  },
  {
   "cell_type": "markdown",
   "metadata": {
    "collapsed": true
   },
   "source": [
    "## Problemas"
   ]
  },
  {
   "cell_type": "markdown",
   "metadata": {},
   "source": [
    "#### Utilizaremos Python para los cálculos "
   ]
  },
  {
   "cell_type": "code",
   "execution_count": 98,
   "metadata": {
    "collapsed": false
   },
   "outputs": [],
   "source": [
    "%matplotlib inline\n",
    "import matplotlib.pyplot as plt\n",
    "from sympy import init_session\n",
    "#init_session(use_latex = True)\n",
    "import numpy as np"
   ]
  },
  {
   "cell_type": "markdown",
   "metadata": {},
   "source": [
    "**Dados los conjuntos $\\, A=\\{1,2,3,4,5,6\\}\\quad \\text{y} \\, \\quad B=\\{2,4,6\\}\\, $.  Calcular **\n",
    "1. $A\\cup B$\n",
    "2. $A\\cap B$\n",
    "3. $A-B$\n",
    "4. $\\overline{A}$"
   ]
  },
  {
   "cell_type": "markdown",
   "metadata": {},
   "source": [
    "$\\underline {\\textbf{Solución}}$"
   ]
  },
  {
   "cell_type": "code",
   "execution_count": 69,
   "metadata": {
    "collapsed": false
   },
   "outputs": [
    {
     "name": "stdout",
     "output_type": "stream",
     "text": [
      "Unión =  {1, 2, 3, 4, 5, 6}\n",
      "Intersección =  {2, 4, 6}\n",
      "A-B =  {1, 3, 5}\n",
      "Contrario de A =  {8, 7}\n"
     ]
    },
    {
     "data": {
      "image/png": "[encoded data removed]",
      "text/plain": [
       "<matplotlib.figure.Figure at 0x823e9c0940>"
      ]
     },
     "metadata": {},
     "output_type": "display_data"
    }
   ],
   "source": [
    "E={1,2,3,4,5,6,7,8}\n",
    "A={1,2,3,4,5,6}\n",
    "B={2,4,6}\n",
    "print('Unión = ', A.union(B))\n",
    "print('Intersección = ', A.intersection(B))\n",
    "print('A-B = ', A-B)\n",
    "print('Contrario de A = ',E-A)\n",
    "\n",
    "# Dibujanto el diagrama de venn de 2 conjuntos\n",
    "from matplotlib_venn import venn2, venn2_circles\n",
    "import matplotlib.pyplot as plt\n",
    "from sympy import FiniteSet\n",
    "   \n",
    "A = FiniteSet(1, 2, 3, 4, 5, 6)\n",
    "B = FiniteSet(2, 4, 6)\n",
    "\n",
    "plt.figure(figsize=(6, 8))\n",
    "v = venn2(subsets=[A, B], set_labels=('A', 'B'))\n",
    "v.get_label_by_id('10').set_text(A. union(B))\n",
    "v.get_label_by_id('11').set_text(A.intersection(B))\n",
    "v.get_label_by_id('01').set_text(A - B)\n",
    "\n",
    "c = venn2_circles(subsets=[A, B], linestyle='dashed')\n",
    "c[0].set_ls('solid')\n",
    "plt.show()"
   ]
  },
  {
   "cell_type": "markdown",
   "metadata": {},
   "source": []
  },
  {
   "cell_type": "markdown",
   "metadata": {},
   "source": [
    "**Dados los conjuntos $\\, A=\\{1,4,9,a,b,c\\}\\quad \\text{y} \\, \\quad B=\\{2,4,b\\}\\, $.  Calcular **\n",
    "1. $A\\cup B$\n",
    "2. $A\\cap B$\n",
    "3. $A-B$"
   ]
  },
  {
   "cell_type": "code",
   "execution_count": 97,
   "metadata": {
    "collapsed": false
   },
   "outputs": [
    {
     "name": "stdout",
     "output_type": "stream",
     "text": [
      "Unión =  {1, 2, 4, 9}\n",
      "Intersección =  {4}\n",
      "A-B =  {1, 9}\n"
     ]
    },
    {
     "data": {
      "image/png": "[encoded data removed]",
      "text/plain": [
       "<matplotlib.figure.Figure at 0x823e614ef0>"
      ]
     },
     "metadata": {},
     "output_type": "display_data"
    }
   ],
   "source": [
    "A={1,4,9}\n",
    "B={2,4}\n",
    "print('Unión = ', A.union(B))\n",
    "print('Intersección = ', A.intersection(B))\n",
    "print('A-B = ', A-B)\n",
    "\n",
    "# Dibujanto el diagrama de venn de 2 conjuntos\n",
    "from matplotlib_venn import venn2, venn2_circles\n",
    "import matplotlib.pyplot as plt\n",
    "from sympy import FiniteSet\n",
    "\n",
    "A = FiniteSet(1, 4, 9)\n",
    "B = FiniteSet(2, 4)\n",
    "\n",
    "plt.figure(figsize=(6, 8))\n",
    "v = venn2(subsets=[A, B], set_labels=('A', 'B'))\n",
    "v.get_label_by_id('10').set_text(A. union(B))\n",
    "v.get_label_by_id('11').set_text(A.intersection(B))\n",
    "v.get_label_by_id('01').set_text(A - B)\n",
    "\n",
    "c = venn2_circles(subsets=[A, B], linestyle='dashed')\n",
    "c[0].set_ls('solid')\n",
    "plt.show()"
   ]
  },
  {
   "cell_type": "markdown",
   "metadata": {},
   "source": [
    "### Sucesos incompatibles  \n",
    "\n",
    "Dos sucesos $A \\,$ y $\\, B$  se dicen incompatibles si $\\, A\\cap B = \\emptyset \\,$ (suceso imposible)"
   ]
  },
  {
   "cell_type": "markdown",
   "metadata": {},
   "source": [
    "### Regla de la adición\n",
    "La regla de la adición o regla de la suma establece que la probabilidad de ocurrencia de cualquier evento en particular es igual a la suma de las probabilidades individuales, si los sucesos son incompatibles.\n",
    "$$p(A \\cup B) = p(A)+p(B)$$\n",
    "\n",
    "Y si los sucesos son compatibles, entonces\n",
    "$$p(A \\cup B) = p(A)+p(B)-p(A \\cap B)$$"
   ]
  },
  {
   "cell_type": "markdown",
   "metadata": {},
   "source": [
    "** En una reunión de españoles el 50 % habla francés, el 40 % habla inglés y el 20 % hablan los dos idiomas. Elegida una persona al azar hallar la probabilidad de que **:\n",
    "1. Hable alguno de los dos idiomas\n",
    "2. Hable solo francés\n",
    "3. Hable solo español"
   ]
  },
  {
   "cell_type": "code",
   "execution_count": 114,
   "metadata": {
    "collapsed": false
   },
   "outputs": [
    {
     "ename": "SyntaxError",
     "evalue": "can't assign to function call (<ipython-input-114-ec3beb3461dd>, line 2)",
     "output_type": "error",
     "traceback": [
      "\u001b[0;36m  File \u001b[0;32m\"<ipython-input-114-ec3beb3461dd>\"\u001b[0;36m, line \u001b[0;32m2\u001b[0m\n\u001b[0;31m    p(F)=0.5\u001b[0m\n\u001b[0m            ^\u001b[0m\n\u001b[0;31mSyntaxError\u001b[0m\u001b[0;31m:\u001b[0m can't assign to function call\n"
     ]
    }
   ],
   "source": [
    "E,F,I = symbols('E F I')\n",
    "p(F)=0.5\n",
    "p(I)=0.4\n",
    "p(A.intersection(I))=0.2\n"
   ]
  },
  {
   "cell_type": "code",
   "execution_count": 112,
   "metadata": {
    "collapsed": false
   },
   "outputs": [
    {
     "data": {
      "image/png": "[encoded data removed]",
      "text/plain": [
       "<matplotlib.figure.Figure at 0x823ff50240>"
      ]
     },
     "metadata": {},
     "output_type": "display_data"
    }
   ],
   "source": [
    "from matplotlib_venn import venn3\n",
    "venn3(subsets = (0.3, 0, 0.3,0,0.2,0, 0.2), set_labels = ('E', 'F', 'I'))\n",
    "plt.show()"
   ]
  },
  {
   "cell_type": "code",
   "execution_count": null,
   "metadata": {
    "collapsed": true
   },
   "outputs": [],
   "source": []
  }
 ],
 "metadata": {
  "kernelspec": {
   "display_name": "Python 3",
   "language": "python",
   "name": "python3"
  },
  "language_info": {
   "codemirror_mode": {
    "name": "ipython",
    "version": 3
   },
   "file_extension": ".py",
   "mimetype": "text/x-python",
   "name": "python",
   "nbconvert_exporter": "python",
   "pygments_lexer": "ipython3",
   "version": "3.6.0"
  }
 },
 "nbformat": 4,
 "nbformat_minor": 2
}
