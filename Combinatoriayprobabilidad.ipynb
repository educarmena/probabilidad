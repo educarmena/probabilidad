{
 "cells": [
  {
   "cell_type": "markdown",
   "metadata": {},
   "source": [
    "# Combinatoria y Probabilidad"
   ]
  },
  {
   "cell_type": "markdown",
   "metadata": {},
   "source": [
    "<img alt=\"Combinatoria\" title=\"Combinatoria y Probabilidad\" src=\"http://4.bp.blogspot.com/-UliKwW2aAAk/UAJIf4zTtsI/AAAAAAAAAJg/MpUwMWi0vn8/s1600/combinatoria+%25281%2529.jpg\">"
   ]
  },
  {
   "cell_type": "markdown",
   "metadata": {},
   "source": [
    "> \"En el fondo, la teoría de  probabilidades es sólo sentido común expresado con números\"\n",
    "\n",
    "***[Pierre Simon de Laplace](https://es.wikipedia.org/wiki/Pierre-Simon_Laplace)***\n",
    "\n",
    "\n",
    "> Combinatoria enumerativa, o el arte de contar sin enumerar.\n",
    "\n",
    "***[Enlace a wikipedia](https://es.wikipedia.org/wiki/Combinatoria)***\n",
    "\n",
    "\n",
    "## Combinatoria\n",
    "\n",
    "La combinatoria es una rama de la matemática perteneciente al área de matemáticas discretas que estudia las enumeraciónes, ordenaciones o agrupaciones de un determinado número de elementos.\n",
    "\n",
    "En un conjunto con $n$ elementos (número de elementos de la población) tenemos que formar agrupaciones con $p$ elementos (número de elementos de la muestra) siendo $n\\ge p$.\n",
    "\n",
    "Con esta descripción del problema, cabe preguntarse, si el orden de colocación de los elementos en cada grupo, determinan si son grupos iguales o distintos y si los elelemtos se pueden repetir en cada grupo \n",
    "\n",
    "Por tanto hay dos conceptos claves:\n",
    "1. **Orden**: Determina si es importante o no, que los elementos de la muestra aparezcan ordenados.\n",
    "    + **Problema 1**: Grupo de tres dígitos para formar productos de tres factores. En este problema **no** importa el orden de colocación (el orden de los factores no altera el producto). Estas agrupaciones se denominan **combinaciones** y se denotan por  $\\;$ $\\text{C}_{n,p}=\\binom{n}{p}$ (Esta última expresión de llama número combinatorio)\n",
    "    + **Problema 2**: Grupo de tres atletas en el orden de llegada a la meta para obtener, oro,  plata o bronce. En este problema **si** importa el orden de colocación. Estas agrupaciones se denominan **variaciones** y se denotan por $\\;$ $ \\text{V}_{n,p}$ y en el caso particular donde $n=p$ se escribe $\\;$ $\\text{P}_{n}=n!\\;$ y se denomina **factorial**\n",
    "2. **Repetición**: Si los elementos de la muestra se pueden repetir o no.\n",
    "    + **Problema 3**: Una apuesta en un boleto de la quiniela de fútbol. Aquí **se repiten** los elementos 1, X, 2. Las anotaciones son $\\;\\text{CR}_{n,p}=\\binom{n+p-1}{p}$, $\\;\\text{VR}_{n,p}\\;$ y $\\;\\text{PR}_{n}^{\\alpha, \\beta}\\;$ donde $\\; n=\\alpha+\\beta$\n",
    "    + **Problema 4**: Nombrar el presidente, el secretario y el tesorero de una comunidad de vecinos. Aquí **no se repiten** los elementos (las personas no se pueden clonar)\n",
    "\n",
    "$\\color{blue}{\\large\\textbf{Cálculo del número de agrupaciones en cada problema}}$\n",
    "\n",
    "$$V_{n,p}=\\overbrace {n(n-1)(n-2) \\cdots\\cdots (n-p+2)(n-p+1)}^{p \\, \\text{factores}}$$\n",
    "\n",
    "$$P_{n}=n!=n(n-1)(n-2) \\cdots \\cdot 3\\cdot2\\cdot1$$\n",
    "\n",
    "$$C_{n,p}=\\binom{n}{p}=\\frac{V_{n,p}}{P_{p}}=\\frac{n!}{p!(n-p)!}$$\n",
    "\n",
    "$$VR_{n,p}= n^p$$\n",
    "\n",
    "$$PR_{n}^{\\alpha,\\beta}=\\frac{n!}{\\alpha ! \\cdot \\beta !}$$\n",
    "\n",
    "$$CR_{n,p}=\\binom{n+p-1}{p}=\\frac{(n+p-1)!}{p!(n-1)!}$$\n"
   ]
  },
  {
   "cell_type": "markdown",
   "metadata": {},
   "source": [
    "## Problemas"
   ]
  },
  {
   "cell_type": "markdown",
   "metadata": {},
   "source": [
    "**Escribe el conjunto formado por todos los subconjunto que se pueden obtener del conjunto** $\\textbf{A=\\{1,2,3\\}}$"
   ]
  },
  {
   "cell_type": "markdown",
   "metadata": {},
   "source": [
    "$\\underline {\\textbf{Solución}}$"
   ]
  },
  {
   "cell_type": "markdown",
   "metadata": {},
   "source": [
    "Al conjunto de todos los subconjuntos que se puede obtener de $\\textbf{A}$ se le llama conjunto potencia y lo obtenemos mediante Python con el comando ***powerset***"
   ]
  },
  {
   "cell_type": "markdown",
   "metadata": {},
   "source": [
    "#### Utilizamos Python para los cálculos, importando las siguientes librerías."
   ]
  },
  {
   "cell_type": "code",
   "execution_count": 10,
   "metadata": {
    "collapsed": false
   },
   "outputs": [
    {
     "name": "stdout",
     "output_type": "stream",
     "text": [
      "IPython console for SymPy 1.0 (Python 3.6.0-64-bit) (ground types: python)\n",
      "\n",
      "These commands were executed:\n",
      ">>> from __future__ import division\n",
      ">>> from sympy import *\n",
      ">>> x, y, z, t = symbols('x y z t')\n",
      ">>> k, m, n = symbols('k m n', integer=True)\n",
      ">>> f, g, h = symbols('f g h', cls=Function)\n",
      ">>> init_printing()\n",
      "\n",
      "Documentation can be found at http://docs.sympy.org/1.0/\n"
     ]
    }
   ],
   "source": [
    "%matplotlib inline\n",
    "import matplotlib.pyplot as plt\n",
    "from sympy import init_session\n",
    "init_session(use_latex = True)\n",
    "import numpy as np"
   ]
  },
  {
   "cell_type": "code",
   "execution_count": 3,
   "metadata": {
    "collapsed": false
   },
   "outputs": [
    {
     "name": "stdout",
     "output_type": "stream",
     "text": [
      "Conjunto potencia =  {EmptySet(), {1}, {2}, {3}, {1, 2}, {1, 3}, {2, 3}, {1, 2, 3}}\n",
      "Número de elementos del conjunto potencia  8\n"
     ]
    }
   ],
   "source": [
    "C = FiniteSet(1, 2, 3)\n",
    "print('Conjunto potencia = ',C.powerset())\n",
    "print('Número de elementos del conjunto potencia ', len(C.powerset()))"
   ]
  },
  {
   "cell_type": "markdown",
   "metadata": {},
   "source": [
    "El número de elementos que tiene el conjunto potencia es $2^n$, siendo $n$ el número de elementos del conjunto inicial.\n",
    "\n",
    "Los elementos (subconjuntos de $\\textbf{A}$) del conjunto potencia con el mismo número de elementos son $\\displaystyle\\binom{n}{p}$. El número de elementos que tiene el conjunto potencia viene dado por:\n",
    "$$\\sum_{p=0}^{n}\\binom{n}{p} = 2^n$$\n",
    "\n",
    "En nuestro caso:\n",
    "$$\\sum_{p=0}^{3}\\binom{3}{p} =\\binom{3}{0}+\\binom{3}{1}+\\binom{3}{2}+\\binom{3}{3}=1+3+3+1= 2^3=8$$"
   ]
  },
  {
   "cell_type": "markdown",
   "metadata": {},
   "source": [
    "**¿De cuántas maneras se pueden colocar cinco fichas de colores diferentes?**"
   ]
  },
  {
   "cell_type": "markdown",
   "metadata": {},
   "source": [
    "$\\underline {\\textbf{Solución}}$"
   ]
  },
  {
   "cell_type": "markdown",
   "metadata": {},
   "source": [
    "Tenemos $5$ fichas de colores distintos y debemos colocar las $5$ fichas, por tanto el orden de colocación si importa, luego:\n",
    "\n",
    "$$P_5=5!=\\cdot 5 \\cdot 4 \\cdot 3 \\cdot 2 \\cdot 1 = 120$$"
   ]
  },
  {
   "cell_type": "code",
   "execution_count": 4,
   "metadata": {
    "collapsed": false
   },
   "outputs": [
    {
     "data": {
      "image/png": "[encoded data removed]",
      "text/latex": [
       "$$120$$"
      ],
      "text/plain": [
       "120"
      ]
     },
     "execution_count": 4,
     "metadata": {},
     "output_type": "execute_result"
    }
   ],
   "source": [
    "factorial(5)"
   ]
  },
  {
   "cell_type": "markdown",
   "metadata": {},
   "source": [
    "**Hay que colocar a $5$ hombre y $4$ mujeres en una fila de modo que las mujeres ocupen los lugares pares ¿De cuántas maneras puede hacerse?**"
   ]
  },
  {
   "cell_type": "markdown",
   "metadata": {},
   "source": [
    "$\\underline {\\textbf{Solución}}$"
   ]
  },
  {
   "cell_type": "markdown",
   "metadata": {},
   "source": [
    "Los hombres se pueden colocar de $5!$ formas distintas. De cada posición de los hombres, las mujeres se pueden colocar de $4!$ \n",
    "formas didtintas, por tanto el total de formas son:\n",
    "\n",
    "$$5! \\cdot 4!= 5 \\cdot 4 \\cdot 3 \\cdot 2 \\cdot 1 \\cdot 4 \\cdot 3 \\cdot 2 \\cdot 1 = 120 \\cdot 24 = 2820$$"
   ]
  },
  {
   "cell_type": "code",
   "execution_count": 5,
   "metadata": {
    "collapsed": false
   },
   "outputs": [
    {
     "data": {
      "image/png": "[encoded data removed]",
      "text/latex": [
       "$$2880$$"
      ],
      "text/plain": [
       "2880"
      ]
     },
     "execution_count": 5,
     "metadata": {},
     "output_type": "execute_result"
    }
   ],
   "source": [
    "factorial(5)*factorial(4)"
   ]
  },
  {
   "cell_type": "markdown",
   "metadata": {},
   "source": [
    "**¿Cuántas diagonales tiene un polígono convexo de siete vértices?**"
   ]
  },
  {
   "cell_type": "markdown",
   "metadata": {},
   "source": [
    "$\\underline {\\textbf{Solución}}$"
   ]
  },
  {
   "cell_type": "markdown",
   "metadata": {},
   "source": [
    "Una diagonal se obtiene uniendo dos vértices no consecutivos, por tanto, calculamos el número de rectas que podemos obtener con dos puntos, de siete puntos que tenemos y le restamos los siete lados.\n",
    "\n",
    "$$\\text{número de diagonales =}\\; \\binom{7}{2}-7$$"
   ]
  },
  {
   "cell_type": "code",
   "execution_count": 6,
   "metadata": {
    "collapsed": false
   },
   "outputs": [
    {
     "data": {
      "image/png": "[encoded data removed]",
      "text/latex": [
       "$$14$$"
      ],
      "text/plain": [
       "14"
      ]
     },
     "execution_count": 6,
     "metadata": {},
     "output_type": "execute_result"
    }
   ],
   "source": [
    "binomial(7,2)-7"
   ]
  },
  {
   "cell_type": "markdown",
   "metadata": {},
   "source": [
    "## Probabilidad\n",
    "\n",
    "La probabilidad es una **medida** de la certidumbre asociada a un suceso de un experimento aleatorio (no sabemos a priori lo que va a ocurrir).\n",
    "\n",
    "La teoría de la probabilidad se usa extensamente en áreas como la estadística, la física, la administración, contaduría, economía y la filosofía para sacar conclusiones sobre la probabilidad discreta de sucesos.\n",
    "\n",
    "#### Espacio muestral y sucesos elementales\n",
    "\n",
    "Consideremos un experimento aleatorio $\\Omega$ y sean $E_i \\quad i\\in \\mathbb{N}$ los sucesos elementales (sucesos equiprobables).\n",
    "\n",
    "Lamamos **espacio muestral** al conjunto formado por los sucesos elementales.\n",
    "\n",
    "$$E=\\{E_i\\}$$\n",
    "\n",
    "Se define un suceso compuesto o simplemente **suceso** a la unión finita de sucesos elementales.\n",
    "$$A=\\bigcup_{i=1}^{k}E_i$$\n",
    "\n",
    "**Ejemplo**\n",
    "En una caja hay cinco bolas iguales numeradas del 1 al 5 y realizamos el experimento de extraer una bola. Obtener:\n",
    "1. El espacio muestral\n",
    "2. El suceso sacar una bola con un número par\n",
    "3. El suceso sacar una bola con un número primo\n",
    "\n",
    "**Solución**\n",
    "1. $$E=\\{1,2,3,4,5\\}$$\n",
    "2. $$A_1=\\{2,4\\}$$\n",
    "3. $$A_2=\\{1,2,3,5\\}$$\n",
    "\n",
    "### Operaciones con sucesos\n",
    "\n",
    "1. Unión $\\qquad A_i\\cup A_j = \\{E_k \\quad \\text{tal que} \\quad E_k\\in A_i \\quad \\text{ó} \\quad E_k\\in A_j\\}$\n",
    "2. Intersección $\\qquad A_i\\cap A_j = \\{E_k \\quad \\text{tal que} \\quad E_k\\in A_i \\quad \\text{y} \\quad E_k\\in A_j\\}$\n",
    "3. Contrario  $\\qquad \\overline A_i=\\{E_k \\quad \\text{tal que} \\quad E_k\\in E \\quad \\text{y} \\quad E_k\\notin A_i\\}$\n",
    "4. Diferencia $\\qquad A_i - A_j = A_i \\cap \\overline A_j=\\{E_k \\quad \\text{tal que} \\quad E_k\\in A_i \\quad \\text{y} \\quad E_k\\notin A_j\\}$\n",
    "\n",
    "**En el ejemplo anterior**\n",
    "\n",
    "Calcular:\n",
    "1. $A_1 \\cup A_2$ \n",
    "$$A_1 \\cup A_2 = \\{1,2,3,4,5\\} = E$$\n",
    "2. $A_1 \\cap A_2$\n",
    "$$A_1 \\cap A_2 = \\{2\\}$$\n",
    "3. $\\overline{A_2}$\n",
    "$$\\overline{A_2} = \\{4\\}$$\n",
    "\n",
    "### Leyes de Morgan\n",
    "\n",
    "1. $\\qquad \\overline{(A_i\\cup A_j)} =\\overline A_i \\cap \\overline A_j $\n",
    "2. $\\qquad \\overline{(A_i\\cap A_j)} =\\overline A_i \\cup \\overline A_j $\n",
    "3. $\\qquad \\overline{\\overline A_i}= A_i$\n",
    "\n",
    "$\\color{blue}{\\large{\\textbf{Axiomas de la teoría de la probabilidad}}}$\n",
    "\n",
    "1. $\\qquad 0\\leq p(A_i) \\leq 1 \\quad \\forall i$\n",
    "2. $\\qquad p\\left(\\overline A_i\\right)= 1- p(A_i)$\n",
    "3. $\\qquad \\displaystyle p\\left(\\bigcup_{i=1}^{n}{A_i}\\right)=\\displaystyle \\sum_{i=1}^{n}{p(A_i)}= p(E)= 1$\n",
    "\n",
    "$\\color{blue}{\\large{\\textbf{Regla de Laplace}}}$\n",
    "\n",
    "Sea $\\Omega$ un experimento aleatorio cualquiera y  $\\displaystyle E=\\{A_{1},..,A_{n}\\}$ el conjunto finito de sus resultados posibles.\n",
    "\n",
    "Si suponemos que cada resultado es equiprobable (que ninguno tenga más oportunidades que otro) entonces  $\\displaystyle p(A_{i})=p_i$.\n",
    "\n",
    "Si queremos que p sea una función de probabilidad tal que $\\displaystyle p(\\Omega)=1=\\sum _{i=1}^{n}p(A_{i})$   $\\Rightarrow$ $\\displaystyle p_i=\\frac{1}{n}$\n",
    "\n",
    "Sea A un subconjunto tal que $\\displaystyle A=\\{A_{1},..,A_{r}\\}$  $\\Rightarrow$ $\\displaystyle p(A)=\\sum _{i=1}^{r}p(A_{i})\\ =r\\cdot p_i=\\frac{r}{n}= \\frac{\\color{red}{\\text{número de casos favorables}}}{\\color{red}{\\text{número de casos posibles}}}$"
   ]
  },
  {
   "cell_type": "markdown",
   "metadata": {
    "collapsed": true
   },
   "source": [
    "## Problemas"
   ]
  },
  {
   "cell_type": "markdown",
   "metadata": {},
   "source": [
    "**Dados los conjuntos $\\, A=\\{1,2,3,4,5,6\\}\\quad \\text{y} \\, \\quad B=\\{2,4,6\\}\\, $.  Calcular **\n",
    "1. $A\\cup B$\n",
    "2. $A\\cap B$\n",
    "3. $A-B$\n",
    "4. $\\overline{A}$"
   ]
  },
  {
   "cell_type": "markdown",
   "metadata": {},
   "source": [
    "$\\underline {\\textbf{Solución}}$"
   ]
  },
  {
   "cell_type": "code",
   "execution_count": 20,
   "metadata": {
    "collapsed": false
   },
   "outputs": [
    {
     "name": "stdout",
     "output_type": "stream",
     "text": [
      "Unión =  {1, 2, 3, 4, 5, 6}\n",
      "Intersección =  {2, 4, 6}\n",
      "A-B =  {1, 3, 5}\n",
      "Contrario de A =  {8, 7}\n"
     ]
    },
    {
     "data": {
      "image/png": "[encoded data removed]",
      "text/plain": [
       "<matplotlib.figure.Figure at 0xfdf292fa20>"
      ]
     },
     "metadata": {},
     "output_type": "display_data"
    }
   ],
   "source": [
    "E={1,2,3,4,5,6,7,8}\n",
    "A={1,2,3,4,5,6}\n",
    "B={2,4,6}\n",
    "print('Unión = ', A.union(B))\n",
    "print('Intersección = ', A.intersection(B))\n",
    "print('A-B = ', A-B)\n",
    "print('Contrario de A = ',E-A)\n",
    "\n",
    "# Dibujanto el diagrama de venn de 2 conjuntos\n",
    "\n",
    "from matplotlib_venn import venn2, venn2_circles\n",
    "   \n",
    "A = FiniteSet(1, 2, 3, 4, 5, 6)\n",
    "B = FiniteSet(2, 4, 6)\n",
    "\n",
    "plt.figure(figsize=(6, 8))\n",
    "v = venn2(subsets=[A, B], set_labels=('A', 'B'))\n",
    "v.get_label_by_id('10').set_text(A. union(B))\n",
    "v.get_label_by_id('11').set_text(A.intersection(B))\n",
    "v.get_label_by_id('01').set_text(A - B)\n",
    "\n",
    "c = venn2_circles(subsets=[A, B], linestyle='dashed')\n",
    "c[0].set_ls('solid')\n",
    "plt.show()"
   ]
  },
  {
   "cell_type": "markdown",
   "metadata": {},
   "source": [
    "**Dados los conjuntos $\\, A=\\{1,4,9,a,b,c\\}\\quad \\text{y} \\, \\quad B=\\{2,4,b\\}\\, $.  Calcular **\n",
    "1. $A\\cup B$\n",
    "2. $A\\cap B$\n",
    "3. $A-B$"
   ]
  },
  {
   "cell_type": "markdown",
   "metadata": {},
   "source": [
    "$\\underline {\\textbf{Solución}}$"
   ]
  },
  {
   "cell_type": "code",
   "execution_count": 18,
   "metadata": {
    "collapsed": false
   },
   "outputs": [
    {
     "name": "stdout",
     "output_type": "stream",
     "text": [
      "Unión =  {1, 2, 4, 9}\n",
      "Intersección =  {4}\n",
      "A-B =  {1, 9}\n"
     ]
    },
    {
     "data": {
      "image/png": "[encoded data removed]",
      "text/plain": [
       "<matplotlib.figure.Figure at 0xfdf0a73780>"
      ]
     },
     "metadata": {},
     "output_type": "display_data"
    }
   ],
   "source": [
    "A={1,4,9}\n",
    "B={2,4}\n",
    "print('Unión = ', A.union(B))\n",
    "print('Intersección = ', A.intersection(B))\n",
    "print('A-B = ', A-B)\n",
    "\n",
    "# Dibujanto el diagrama de venn de 2 conjuntos\n",
    "from matplotlib_venn import venn2, venn2_circles\n",
    "\n",
    "A = FiniteSet(1, 4, 9)\n",
    "B = FiniteSet(2, 4)\n",
    "\n",
    "plt.figure(figsize=(6, 8))\n",
    "v = venn2(subsets=[A, B], set_labels=('A', 'B'))\n",
    "v.get_label_by_id('10').set_text(A. union(B))\n",
    "v.get_label_by_id('11').set_text(A.intersection(B))\n",
    "v.get_label_by_id('01').set_text(A - B)\n",
    "\n",
    "c = venn2_circles(subsets=[A, B], linestyle='dashed')\n",
    "c[0].set_ls('solid')\n",
    "plt.show()"
   ]
  },
  {
   "cell_type": "markdown",
   "metadata": {},
   "source": [
    "### Sucesos incompatibles  \n",
    "\n",
    "Dos sucesos $A \\,$ y $\\, B$  se dicen incompatibles si $\\, A\\cap B = \\emptyset \\,$ (suceso imposible)"
   ]
  },
  {
   "cell_type": "markdown",
   "metadata": {},
   "source": [
    "### Regla de la adición\n",
    "La regla de la adición o regla de la suma establece que la probabilidad de ocurrencia de cualquier evento en particular es igual a la suma de las probabilidades individuales, si los sucesos son incompatibles.\n",
    "$$p(A \\cup B) = p(A)+p(B)$$\n",
    "\n",
    "Y si los sucesos son compatibles, entonces\n",
    "$$p(A \\cup B) = p(A)+p(B)-p(A \\cap B)$$"
   ]
  },
  {
   "cell_type": "markdown",
   "metadata": {},
   "source": [
    "** En una reunión de españoles el 50 % habla francés, el 40 % habla inglés y el 20 % hablan los dos idiomas. Elegida una persona al azar hallar la probabilidad de que **:\n",
    "1. Hable alguno de los dos idiomas\n",
    "2. Hable solo francés\n",
    "3. Hable solo español"
   ]
  },
  {
   "cell_type": "markdown",
   "metadata": {},
   "source": [
    "$\\underline {\\textbf{Solución}}$"
   ]
  },
  {
   "cell_type": "markdown",
   "metadata": {},
   "source": [
    "Definimos los sucesos:\n",
    "+ F = habla francés\n",
    "+ I = habla inglés\n",
    "\n",
    "La probabilidad de elegir uno de ellos viene dada por:\n",
    "+ $p(F) = 0.50$\n",
    "+ $p(I) = 0.40$\n",
    "+ $p(F \\cap I) = 0.20$ \n",
    "\n",
    "La probabilidad de que hable alguno de los dos idiomas viene dado por:\n",
    "$$p(F \\cup I) = p(F)+p(I)-p(F \\cap I) $$\n",
    "\n",
    "La probabilidad de que hable solo francés viene dado por:\n",
    "$$p(F-I) = p(F)-p(F \\cap I) $$\n",
    "\n",
    "La probabilidad de que hable solo español viene dado por:\n",
    "$$p (\\overline{F\\cup I}) = 1- p(F \\cup I)$$\n",
    "\n",
    "$\\color{green}{\\large\\text{Cálculos}}$"
   ]
  },
  {
   "cell_type": "code",
   "execution_count": 16,
   "metadata": {
    "collapsed": false
   },
   "outputs": [
    {
     "name": "stdout",
     "output_type": "stream",
     "text": [
      "p(hable alguno de los dos idiomas) =  0.7\n",
      "p(solo francés) =  0.3\n",
      "p(solo español) =  0.30000000000000004\n"
     ]
    }
   ],
   "source": [
    "pF=0.5\n",
    "pI=0.4\n",
    "pFyI=0.2\n",
    "pFoI=pF+pI-pFyI\n",
    "print('p(hable alguno de los dos idiomas) = ',pFoI)\n",
    "print('p(solo francés) = ',pF-pFyI)\n",
    "print('p(solo español) = ',1-pFoI)"
   ]
  },
  {
   "cell_type": "code",
   "execution_count": 15,
   "metadata": {
    "collapsed": false
   },
   "outputs": [
    {
     "data": {
      "image/png": "[encoded data removed]",
      "text/plain": [
       "<matplotlib.figure.Figure at 0xfdf2911a90>"
      ]
     },
     "metadata": {},
     "output_type": "display_data"
    }
   ],
   "source": [
    "from matplotlib_venn import venn3\n",
    "venn3(subsets = (1-pFoI, 0, pF-pFyI, 0,pFyI, 0, pI-pFyI), set_labels = ('E', 'F', 'I'))\n",
    "plt.show()"
   ]
  },
  {
   "cell_type": "markdown",
   "metadata": {
    "collapsed": true
   },
   "source": [
    "### Sucesos independiente\n",
    "\n",
    "Se dice que un suceso $\\textbf{A}$ es independiente del suceso $\\textbf{B}$, si  la ocurrencia de $\\textbf{A}$ no interviene lo que haya ocurrido en $\\textbf{B}$"
   ]
  },
  {
   "cell_type": "markdown",
   "metadata": {},
   "source": [
    "### Probabilidad condicionada\n",
    "\n",
    "Sean dos sucesos $\\textbf{A y B}$ se define la probabilidad de que ocurra $\\textbf{A}$ sabiendo que ha ocurrido $\\textbf{B}$ como:\n",
    "$$p\\left(A/B\\right)=\\frac{p(A\\cap B)}{p(B)}$$\n",
    "\n",
    "Si $\\displaystyle p\\left(A/B\\right)=p(A)$ se dice que los sucesos son independientes o bien $\\; p(A\\cap B)=p(A) \\cdot p(B)$"
   ]
  },
  {
   "cell_type": "markdown",
   "metadata": {
    "collapsed": true
   },
   "source": [
    "**Para un sorteo de la ONCE he comprado el número 03215. ¿Cuál es la probabilidad de que me toque? y ¿cuál es la probabilidad de que me toque sabiendo que el número que ha salido termina en 5?**"
   ]
  },
  {
   "cell_type": "markdown",
   "metadata": {},
   "source": [
    "$\\underline {\\textbf{Solución}}$"
   ]
  },
  {
   "cell_type": "markdown",
   "metadata": {},
   "source": [
    "Los números son grupos de cinco dígitos donde importa el orden de colocación y donde se pueden repetir, por tanto, la cantidad de números del sorteo es:\n",
    "\n",
    "$$VR_{10,5}=10^5$$\n",
    "\n",
    "La probabilidad de que me toque, según Laplace , viene dada por:\n",
    "\n",
    "$$p(Acertar)=\\frac{1}{VR_{10,5}}=\\frac{1}{10^5}$$"
   ]
  },
  {
   "cell_type": "code",
   "execution_count": 34,
   "metadata": {
    "collapsed": false
   },
   "outputs": [
    {
     "data": {
      "image/png": "[encoded data removed]",
      "text/latex": [
       "$$1e-05$$"
      ],
      "text/plain": [
       "1e-05"
      ]
     },
     "execution_count": 34,
     "metadata": {},
     "output_type": "execute_result"
    }
   ],
   "source": [
    "p_Acertar =1/10**5\n",
    "p_Acertar"
   ]
  },
  {
   "cell_type": "markdown",
   "metadata": {},
   "source": [
    "Sea $A=\\text{acertar}\\;$ y $B=\\text{terminar en 5}$\n",
    "\n",
    "Si conozco que ha terminado en cinco y yo tengo el cinco, entonces calculamos la probabilidad condicionada\n",
    "\n",
    "$$p\\left(A/B\\right)$$\n",
    "\n",
    "Los números de cinco cifras que se pueden obtener con diez dígitos, sabiendo que el último es un cinco, son:\n",
    "\n",
    "$$VR_{10,4}=10^4$$\n",
    "\n",
    "Por tanto la probabilidad pedida viene dada por,\n",
    "\n",
    "$$p\\left(A/B\\right)=\\frac{1}{VR_{10,4}}=\\frac{1}{10^4}$$"
   ]
  },
  {
   "cell_type": "code",
   "execution_count": 35,
   "metadata": {
    "collapsed": false
   },
   "outputs": [
    {
     "data": {
      "image/png": "[encoded data removed]",
      "text/latex": [
       "$$0.0001$$"
      ],
      "text/plain": [
       "0.0001"
      ]
     },
     "execution_count": 35,
     "metadata": {},
     "output_type": "execute_result"
    }
   ],
   "source": [
    "p_AB=1/10**4\n",
    "p_AB"
   ]
  },
  {
   "cell_type": "markdown",
   "metadata": {},
   "source": [
    "**Calcular la probabilidad de obtener tres seises en cinco tiradas de un dado.**"
   ]
  },
  {
   "cell_type": "markdown",
   "metadata": {},
   "source": [
    "$\\underline {\\textbf{Solución}}$"
   ]
  },
  {
   "cell_type": "markdown",
   "metadata": {},
   "source": [
    "Uno de los sucesos podría ser $\\{6,6,\\overline{6},6,\\overline{6}\\}$, la probabilidad de que ocurra ese suceso es:\n",
    "\n",
    "$$p(6) \\cdot p(6) \\cdot p(\\overline{6}) \\cdot p(6) \\cdot p(\\overline{6})=\\frac{1}{6}\\cdot \\frac{1}{6}\\cdot \\frac{5}{6}\\cdot \\frac{1}{6}\\cdot \\frac{5}{6}=\\left(\\frac{1}{6}\\right)^3\\left(\\frac{5}{6}\\right)^2$$ \n",
    "\n",
    "ya que lo que salga en una tirada es independiente de lo que salga en otra.  \n",
    "\n",
    "Pero, hay un total de $C_{5,3}\\;$ sucesos donde hay tres $6$ y dos que no son $6$, luego la probabilida pedida es\n",
    "\n",
    "$$p(A)=\\binom{5}{3}\\left(\\frac{1}{6}\\right)^3\\left(\\frac{5}{6}\\right)^2$$"
   ]
  },
  {
   "cell_type": "code",
   "execution_count": 37,
   "metadata": {
    "collapsed": false
   },
   "outputs": [
    {
     "data": {
      "image/png": "[encoded data removed]",
      "text/latex": [
       "$$0.0321502057613169$$"
      ],
      "text/plain": [
       "0.0321502057613169"
      ]
     },
     "execution_count": 37,
     "metadata": {},
     "output_type": "execute_result"
    }
   ],
   "source": [
    "p_A = binomial(5,3)*(1/6)**3*(5/6)**2\n",
    "p_A"
   ]
  },
  {
   "cell_type": "markdown",
   "metadata": {},
   "source": [
    "**En una urna hay 4 bolas blancas, 3 bolas verdes y 3 bolas rojas. Extraemos dos bolas, una tras otra, sin reemplazamiento. Se pide las siguientes probabilidades:**\n",
    "1. Sacar dos rojas\n",
    "2. De que la última sea verde\n",
    "3. De que la primera sea blanca, sabiendo que la última es verde."
   ]
  },
  {
   "cell_type": "markdown",
   "metadata": {},
   "source": [
    "$\\underline {\\textbf{Solución}}$"
   ]
  },
  {
   "cell_type": "markdown",
   "metadata": {},
   "source": [
    "1_ Probabilidad de que las dos bolas sean rojas\n",
    "\n",
    "$$p(1R\\cap 2R) = p(1R) \\cdot p\\left(2R/1R\\right)= \\frac{3}{10}\\cdot \\frac{2}{9}$$"
   ]
  },
  {
   "cell_type": "code",
   "execution_count": 38,
   "metadata": {
    "collapsed": false
   },
   "outputs": [
    {
     "data": {
      "image/png": "[encoded data removed]",
      "text/latex": [
       "$$0.06666666666666667$$"
      ],
      "text/plain": [
       "0.06666666666666667"
      ]
     },
     "execution_count": 38,
     "metadata": {},
     "output_type": "execute_result"
    }
   ],
   "source": [
    "p_1R2R = 3/10*2/9\n",
    "p_1R2R"
   ]
  },
  {
   "cell_type": "markdown",
   "metadata": {},
   "source": [
    "2_ Probabilidad de que la última sea verde\n",
    "\n",
    "$$p(2V) = p(1B) \\cdot p\\left(2V/1B\\right)+p(1V) \\cdot p\\left(2V/1V\\right)+p(1R) \\cdot p\\left(2V/1R\\right)= \\frac{4}{10}\\cdot \\frac{3}{9}+\\frac{3}{10}\\cdot \\frac{2}{9}+\\frac{3}{10}\\cdot \\frac{3}{9}$$"
   ]
  },
  {
   "cell_type": "code",
   "execution_count": 41,
   "metadata": {
    "collapsed": false
   },
   "outputs": [
    {
     "data": {
      "image/png": "[encoded data removed]",
      "text/latex": [
       "$$0.30000000000000004$$"
      ],
      "text/plain": [
       "0.30000000000000004"
      ]
     },
     "execution_count": 41,
     "metadata": {},
     "output_type": "execute_result"
    }
   ],
   "source": [
    "p_2V = 12/90+6/90+9/90\n",
    "p_2V"
   ]
  },
  {
   "cell_type": "markdown",
   "metadata": {},
   "source": [
    "3_ Probabilidad de que la primera sea blanca sabiendo que la segunda es verde\n",
    "\n",
    "Aplicando el teorema de Bayes, obtenemos\n",
    "\n",
    "$$p\\left(1B/2V\\right) = \\frac{p\\left(2V/1B\\right)p(1B)}{p(2V)}=\\frac{\\frac{3}{9}\\cdot\\frac{4}{10}}{\\frac{27}{90}} $$"
   ]
  },
  {
   "cell_type": "code",
   "execution_count": 42,
   "metadata": {
    "collapsed": false
   },
   "outputs": [
    {
     "data": {
      "image/png": "[encoded data removed]",
      "text/latex": [
       "$$0.4444444444444445$$"
      ],
      "text/plain": [
       "0.4444444444444445"
      ]
     },
     "execution_count": 42,
     "metadata": {},
     "output_type": "execute_result"
    }
   ],
   "source": [
    "p_1B2V = (3/9*4/10)/(27/90)\n",
    "p_1B2V"
   ]
  }
 ],
 "metadata": {
  "kernelspec": {
   "display_name": "Python 3",
   "language": "python",
   "name": "python3"
  },
  "language_info": {
   "codemirror_mode": {
    "name": "ipython",
    "version": 3
   },
   "file_extension": ".py",
   "mimetype": "text/x-python",
   "name": "python",
   "nbconvert_exporter": "python",
   "pygments_lexer": "ipython3",
   "version": "3.6.0"
  }
 },
 "nbformat": 4,
 "nbformat_minor": 2
}
